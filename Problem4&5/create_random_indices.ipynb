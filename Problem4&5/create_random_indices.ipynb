{
 "cells": [
  {
   "cell_type": "code",
   "execution_count": 6,
   "id": "ae7f5447",
   "metadata": {},
   "outputs": [],
   "source": [
    "#Import Libraries\n",
    "import numpy as np\n",
    "import matplotlib.pyplot as plt\n",
    "import scipy.fftpack as spfft\n",
    "import scipy.ndimage as spimg\n",
    "import imageio\n",
    "\n",
    "#Initialise path variable\n",
    "path = \"/Users/kushagrakhatwani/MDS/Project1/Problem4&5\" #Change it to your own directory\n",
    "\n",
    "Xorig = imageio.imread(path+'/img.png', pilmode='RGB')\n",
    "#keep the corruption same as what you will use to create data in create_color_data file color='red','blue,'green'\n",
    "corruption = 0.7\n",
    "ny, nx ,nz= Xorig.shape\n",
    "# extract small sample of signal\n",
    "corruption = 1 - corruption\n",
    "\n",
    "#Creating random indices\n",
    "k = round(nx * ny *corruption)\n",
    "ri = np.random.choice(nx*ny, k, replace=False)  # random sample of indices\n",
    "\n",
    "np.save(path+'/ri', ri)"
   ]
  },
  {
   "cell_type": "code",
   "execution_count": null,
   "id": "6c06e159",
   "metadata": {},
   "outputs": [],
   "source": []
  }
 ],
 "metadata": {
  "kernelspec": {
   "display_name": "Python 3 (ipykernel)",
   "language": "python",
   "name": "python3"
  },
  "language_info": {
   "codemirror_mode": {
    "name": "ipython",
    "version": 3
   },
   "file_extension": ".py",
   "mimetype": "text/x-python",
   "name": "python",
   "nbconvert_exporter": "python",
   "pygments_lexer": "ipython3",
   "version": "3.8.5"
  }
 },
 "nbformat": 4,
 "nbformat_minor": 5
}
